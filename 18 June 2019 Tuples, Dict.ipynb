{
 "cells": [
  {
   "cell_type": "markdown",
   "metadata": {},
   "source": [
    "### Tuples\n",
    "t1 =()\n",
    "li =[]\n",
    "**Difference between Lists and Tuples**<br>\n",
    "**Lists are mutable - can be changed/modified**<br>\n",
    "- Used to Access, Modify, Add, Delete data<br>\n",
    "**Tuples are immutale - Cannot be changed once initialised**<br>\n",
    "- Used to access data only\n",
    "- All Slicing work\n"
   ]
  },
  {
   "cell_type": "code",
   "execution_count": 1,
   "metadata": {},
   "outputs": [
    {
     "data": {
      "text/plain": [
       "(8, 6, 0)"
      ]
     },
     "execution_count": 1,
     "metadata": {},
     "output_type": "execute_result"
    }
   ],
   "source": [
    "t1=(1,2,8,6,0)\n",
    "t1[3]\n",
    "t1[len(t1)//2:]"
   ]
  },
  {
   "cell_type": "markdown",
   "metadata": {},
   "source": [
    "### Dictionaries\n",
    "- It Works on the concept of Set\n",
    "- Unique Data\n",
    "\n",
    "- Keys, Values\n",
    "- Key is the unique identifier for a value\n",
    "- Value is data that can be accessed with a key"
   ]
  },
  {
   "cell_type": "code",
   "execution_count": 16,
   "metadata": {},
   "outputs": [
    {
     "data": {
      "text/plain": [
       "{'k1': 'value1', 'k2': 'value2', 'k3': 'value4'}"
      ]
     },
     "execution_count": 16,
     "metadata": {},
     "output_type": "execute_result"
    }
   ],
   "source": [
    "d1={'k1':'value1','k2':'value2'}\n",
    "d1['k2']  # Accessing the value with key \"K2\"\n",
    "d1.keys() # Returns list of all keys\n",
    "d1.values() # returns list of all values\n",
    "d1.items() # returns list of tuples\n",
    "d1[\"k3\"] = \"value3\" # Adding an element to the dictionary\n",
    "d1[\"k3\"] =\"value4\" # Updating an element\n",
    "dir(d1)\n",
    "d1"
   ]
  },
  {
   "cell_type": "markdown",
   "metadata": {},
   "source": [
    "### Contacts Application\n",
    "- Add Contact\n",
    "- Search for contact\n",
    "- List all contact\n",
    "- Modify contact\n",
    "- Remove contact\n"
   ]
  },
  {
   "cell_type": "code",
   "execution_count": 25,
   "metadata": {},
   "outputs": [
    {
     "name": "stdout",
     "output_type": "stream",
     "text": [
      "Name :Krishna\n",
      "Phoe :7894561230\n",
      "New contact added\n",
      "{'Krishna': '7894561230'}\n"
     ]
    }
   ],
   "source": [
    "contacts = {}\n",
    "\n",
    "def addContact(name, phone):\n",
    "    # Verify the contact doesn't already exist\n",
    "    if name not in contacts:\n",
    "        contacts[name] = phone\n",
    "        print(\"New contact added\")\n",
    "    else:\n",
    "        print(\"Contact %s already exists\" % name)\n",
    "    return\n",
    "\n",
    "name=input(\"Name :\")\n",
    "phone=input(\"Phoe :\")\n",
    "addContact(name,phone)\n",
    "print(contacts)"
   ]
  },
  {
   "cell_type": "code",
   "execution_count": 27,
   "metadata": {},
   "outputs": [
    {
     "name": "stdout",
     "output_type": "stream",
     "text": [
      "Krishna : 7894561230\n"
     ]
    }
   ],
   "source": [
    "def searchContacts(name):\n",
    "    if name in contacts:\n",
    "        print(name,\":\", contacts[name])\n",
    "    else:\n",
    "        print(\"%s does not exist\"%name)\n",
    "    return\n",
    "searchContacts(\"Krishna\")"
   ]
  },
  {
   "cell_type": "code",
   "execution_count": 45,
   "metadata": {},
   "outputs": [
    {
     "name": "stdout",
     "output_type": "stream",
     "text": [
      "Name :Krishna\n",
      "Phoe :994555566\n",
      "Contact Krishna already exists\n",
      "{'Krishna': '7894561230', 'name3': 4875444455, 'name4': 4554554787}\n"
     ]
    }
   ],
   "source": [
    "#contacts={}\n",
    "def addContacts(name, phone):\n",
    "    # Verify the contact doesn't already exist\n",
    "    if name not in contacts:\n",
    "        contacts[name] = phone\n",
    "        print(\"New contact added\")\n",
    "    else:\n",
    "        l=[]\n",
    "        getP=contacts.get(name)\n",
    "        print(getP)\n",
    "        newP=contacts.get(phone)\n",
    "        l.extend([getP,newP])\n",
    "        contacts[name]=l\n",
    "        print(contacts[name])\n",
    "        #print(\"Contact %s already exists\" % name)\n",
    "    return\n",
    "name=input(\"Name :\")\n",
    "phone=input(\"Phoe :\")\n",
    "addContact(name,phone)\n",
    "print(contacts)"
   ]
  },
  {
   "cell_type": "code",
   "execution_count": 32,
   "metadata": {},
   "outputs": [
    {
     "data": {
      "text/plain": [
       "'7894561230'"
      ]
     },
     "execution_count": 32,
     "metadata": {},
     "output_type": "execute_result"
    }
   ],
   "source": [
    "contacts.get('Krishna')"
   ]
  },
  {
   "cell_type": "code",
   "execution_count": 37,
   "metadata": {},
   "outputs": [
    {
     "name": "stdout",
     "output_type": "stream",
     "text": [
      "3 added successfully\n"
     ]
    }
   ],
   "source": [
    "# New Contacts is given as a dictionary\n",
    "# Merge new Contects with existing contacts\n",
    "def importContacts(newContacts):\n",
    "    contacts.update(newContacts)\n",
    "    print(len(newContacts.keys()),\"added successfully\")\n",
    "    return\n",
    "\n",
    "newContacts = {\"name2\":97987848584,\"name3\":4875444455,\"name4\":4554554787}\n",
    "importContacts(newContacts)"
   ]
  },
  {
   "cell_type": "code",
   "execution_count": 38,
   "metadata": {},
   "outputs": [
    {
     "data": {
      "text/plain": [
       "{'Krishna': '7894561230',\n",
       " 'name2': 97987848584,\n",
       " 'name3': 4875444455,\n",
       " 'name4': 4554554787}"
      ]
     },
     "execution_count": 38,
     "metadata": {},
     "output_type": "execute_result"
    }
   ],
   "source": [
    "contacts"
   ]
  },
  {
   "cell_type": "code",
   "execution_count": 43,
   "metadata": {},
   "outputs": [
    {
     "name": "stdout",
     "output_type": "stream",
     "text": [
      "Remove Contact Name :name2\n",
      "Deleted Successfully...!\n",
      "{'Krishna': '7894561230', 'name3': 4875444455, 'name4': 4554554787}\n"
     ]
    }
   ],
   "source": [
    "def removeContact(removeName):\n",
    "    contacts.pop(removeName)\n",
    "    print(\"Deleted Successfully...!\")\n",
    "    \n",
    "removeName=input(\"Remove Contact Name :\")\n",
    "removeContact(removeName)\n",
    "print(contacts)"
   ]
  },
  {
   "cell_type": "code",
   "execution_count": 54,
   "metadata": {},
   "outputs": [
    {
     "name": "stdout",
     "output_type": "stream",
     "text": [
      "Name :chaitanya\n",
      "Phoe :8106410134\n",
      "New contact added\n",
      "{'chaitanya': '8106410134'}\n"
     ]
    }
   ],
   "source": [
    "contact={}\n",
    "def addContacts(name, phone):\n",
    "    # Verify the contact doesn't already exist\n",
    "    if name not in contact:\n",
    "        contact[name] = phone\n",
    "        print(\"New contact added\")\n",
    "    else:\n",
    "        l=[]\n",
    "        getP=contact.get(name)\n",
    "        print(getP)\n",
    "        newP=contact.get(phone)\n",
    "        l.extend([getP,newP])\n",
    "        contact[name]=l\n",
    "        contact[name].append(l)\n",
    "        print(contact[name])\n",
    "        # print(\"Contact %s already exists\" % name)\n",
    "    return\n",
    "name=input(\"Name :\")\n",
    "phone=input(\"Phoe :\")\n",
    "addContacts(name,phone)\n",
    "print(contact)"
   ]
  },
  {
   "cell_type": "code",
   "execution_count": 56,
   "metadata": {},
   "outputs": [
    {
     "name": "stdout",
     "output_type": "stream",
     "text": [
      "New contact added\n"
     ]
    }
   ],
   "source": [
    "addContacts(\"chaitu\",8106410134)"
   ]
  },
  {
   "cell_type": "code",
   "execution_count": 57,
   "metadata": {},
   "outputs": [
    {
     "data": {
      "text/plain": [
       "{'chaitanya': '8106410134', 'chaitu': 8106410134}"
      ]
     },
     "execution_count": 57,
     "metadata": {},
     "output_type": "execute_result"
    }
   ],
   "source": [
    "contact"
   ]
  },
  {
   "cell_type": "code",
   "execution_count": 58,
   "metadata": {},
   "outputs": [
    {
     "name": "stdout",
     "output_type": "stream",
     "text": [
      "8106410134\n",
      "[8106410134, None, [...]]\n"
     ]
    }
   ],
   "source": [
    "addContacts(\"chaitu\",8330990517)"
   ]
  },
  {
   "cell_type": "code",
   "execution_count": 59,
   "metadata": {},
   "outputs": [
    {
     "data": {
      "text/plain": [
       "{'chaitanya': '8106410134', 'chaitu': [8106410134, None, [...]]}"
      ]
     },
     "execution_count": 59,
     "metadata": {},
     "output_type": "execute_result"
    }
   ],
   "source": [
    "contact"
   ]
  },
  {
   "cell_type": "markdown",
   "metadata": {},
   "source": [
    "### Packages and Modules :\n",
    "**Package** -> Collection of Modules(Python File.py)<br>\n",
    "**Sub Package** -> <br>\n",
    "**Module** -> A single python file containing function <br>\n",
    "**Package** -> **Subpackages** -> Modules -> Functions <br>"
   ]
  },
  {
   "cell_type": "code",
   "execution_count": 7,
   "metadata": {},
   "outputs": [
    {
     "data": {
      "text/plain": [
       "3.141592653589793"
      ]
     },
     "execution_count": 7,
     "metadata": {},
     "output_type": "execute_result"
    }
   ],
   "source": [
    "#import math\n",
    "from math import floor as fl, pi\n",
    "fl(123.456)\n",
    "pi"
   ]
  },
  {
   "cell_type": "code",
   "execution_count": 17,
   "metadata": {},
   "outputs": [
    {
     "name": "stdout",
     "output_type": "stream",
     "text": [
      "Number :1000\n",
      "Lower Bound :100\n",
      "Upper Bound :800\n",
      "102 658 629 576 505 662 697 365 367 293 520 553 517 140 617 403 515 769 778 525 681 765 152 222 383 519 663 635 663 450 486 357 441 763 663 110 799 293 323 542 564 419 730 115 121 778 438 234 319 763 271 124 441 749 370 471 584 440 259 294 689 197 493 534 439 649 544 625 599 580 563 677 800 119 741 351 244 297 323 185 750 516 387 218 328 786 195 358 310 797 563 149 589 337 358 239 372 675 131 790 519 364 695 562 745 480 140 187 542 695 261 741 290 502 273 218 665 648 564 421 582 776 165 400 242 227 310 467 595 144 155 416 456 470 313 446 580 518 203 337 565 206 598 247 368 148 341 316 344 414 151 667 437 422 719 225 404 287 552 134 798 207 496 326 337 496 101 337 661 572 557 757 371 444 270 231 179 148 716 760 203 352 208 183 138 126 772 538 434 610 463 347 627 526 133 442 790 152 177 222 327 693 376 673 582 493 419 156 729 774 130 773 290 686 213 125 346 752 617 173 442 460 703 510 308 744 461 426 250 380 243 789 411 263 179 420 793 797 395 395 689 665 586 730 117 633 187 118 234 781 275 219 567 348 414 529 142 508 765 273 134 119 628 569 449 708 624 254 592 365 327 206 461 677 492 151 610 452 767 235 232 743 538 263 523 771 214 708 656 153 308 243 382 287 207 650 143 214 680 420 216 277 235 370 363 253 774 765 307 309 104 125 318 757 423 562 381 456 694 773 550 649 212 542 153 640 419 611 742 265 729 749 770 795 782 697 707 542 740 507 377 671 701 420 758 774 548 762 225 552 255 505 794 543 309 182 426 558 458 796 753 640 725 444 464 223 668 521 232 329 123 693 418 177 313 460 477 251 276 587 194 265 129 666 308 150 671 216 343 552 272 657 370 359 210 625 470 166 325 471 171 557 355 243 357 208 527 388 719 153 404 498 250 253 335 172 435 277 281 506 546 100 132 351 704 673 485 536 477 472 778 765 727 646 439 310 133 436 191 130 593 670 114 389 276 152 266 157 543 755 631 746 165 458 629 255 663 102 253 218 128 764 754 192 522 275 436 276 602 775 687 119 489 228 334 213 770 221 221 491 662 217 728 476 420 533 641 395 376 454 664 305 126 147 608 330 140 631 421 125 220 422 500 497 784 398 283 394 461 690 305 693 466 645 400 691 434 626 236 782 516 191 540 694 443 562 736 788 702 516 508 556 417 378 132 213 204 310 346 712 337 270 193 258 208 232 742 355 365 202 116 458 489 137 303 789 149 799 672 670 679 164 488 316 588 476 609 293 384 544 315 683 610 165 587 203 750 642 678 253 538 696 560 413 697 691 278 569 239 716 614 302 619 692 435 170 758 176 644 731 671 461 322 400 582 658 189 456 757 384 586 137 195 231 334 727 570 297 607 312 615 295 193 434 668 670 434 447 704 223 506 470 346 546 581 504 725 776 152 513 336 157 364 380 346 460 591 596 439 165 517 772 365 667 309 136 563 199 331 298 663 778 507 348 784 280 715 215 280 135 276 738 295 204 130 534 379 173 722 697 640 775 519 577 550 720 238 361 675 397 139 688 643 163 777 537 157 171 465 192 342 530 724 230 733 154 658 131 108 395 483 297 144 479 255 369 238 425 563 328 289 770 352 552 317 528 782 658 122 797 208 767 287 243 357 540 481 548 790 477 661 496 330 664 578 384 356 630 694 703 591 237 185 694 780 747 382 503 547 167 426 577 342 276 594 462 686 597 456 655 375 269 598 347 299 275 691 340 366 666 244 402 458 361 771 337 178 674 180 507 779 105 314 180 378 792 126 669 639 606 780 224 187 117 116 644 214 219 571 367 730 767 771 425 277 333 409 525 459 752 477 429 515 181 551 739 370 579 505 709 531 384 553 553 379 326 240 465 556 472 540 280 423 240 493 465 395 256 171 204 762 123 186 796 774 663 523 431 292 693 234 163 120 372 349 611 564 343 606 472 133 565 725 446 144 519 670 759 453 147 569 678 625 775 583 514 580 772 299 344 279 637 562 474 127 235 570 602 188 799 487 253 344 134 706 266 593 583 688 640 678 311 633 484 625 171 179 246 746 119 236 218 121 332 247 584 260 751 178 242 261 137 800 519 612 458 268 789 800 158 736 325 133 439 569 777 367 413 128 555 374 323 451 514 467 266 144 249 725 289 226 335 207 157 230 115 710 343 672 572 680 364 383 586 210 651 456 363 617 719 529 392 657 617 712 128 485 639 772 387 551 766 418 577 422 727 308 677 397 202 "
     ]
    }
   ],
   "source": [
    "# Function to generate N random numbers\n",
    "import random\n",
    "def generateNRandomNumbers(n, lb, ub):\n",
    "    for i in range(0,n):\n",
    "        print(random.randint(lb,ub), end=' ')\n",
    "\n",
    "num = int(input(\"Number :\"))\n",
    "lb = int(input(\"Lower Bound :\"))\n",
    "ub = int(input(\"Upper Bound :\"))\n",
    "generateNRandomNumbers(num,lb,ub)"
   ]
  },
  {
   "cell_type": "code",
   "execution_count": 1,
   "metadata": {},
   "outputs": [
    {
     "ename": "NameError",
     "evalue": "name 'numerical' is not defined",
     "output_type": "error",
     "traceback": [
      "\u001b[1;31m---------------------------------------------------------------------------\u001b[0m",
      "\u001b[1;31mNameError\u001b[0m                                 Traceback (most recent call last)",
      "\u001b[1;32m<ipython-input-1-a4d735881a9f>\u001b[0m in \u001b[0;36m<module>\u001b[1;34m\u001b[0m\n\u001b[0;32m      1\u001b[0m \u001b[1;32mfrom\u001b[0m \u001b[0mPackages\u001b[0m\u001b[1;33m.\u001b[0m\u001b[0mnumerical\u001b[0m \u001b[1;32mimport\u001b[0m \u001b[0misPrime\u001b[0m\u001b[1;33m,\u001b[0m \u001b[0mnumberPrimeFactors\u001b[0m \u001b[1;32mas\u001b[0m \u001b[0mnpf\u001b[0m\u001b[1;33m,\u001b[0m \u001b[0misSpecialNumber\u001b[0m \u001b[1;32mas\u001b[0m \u001b[0misn\u001b[0m\u001b[1;33m\u001b[0m\u001b[1;33m\u001b[0m\u001b[0m\n\u001b[0;32m      2\u001b[0m \u001b[1;31m# from numerical import isPrime, numberPrimeFactors, isSpecialNumber\u001b[0m\u001b[1;33m\u001b[0m\u001b[1;33m\u001b[0m\u001b[1;33m\u001b[0m\u001b[0m\n\u001b[1;32m----> 3\u001b[1;33m \u001b[0mnumerical\u001b[0m\u001b[1;33m.\u001b[0m\u001b[0misPrime\u001b[0m\u001b[1;33m(\u001b[0m\u001b[1;36m50\u001b[0m\u001b[1;33m)\u001b[0m\u001b[1;33m\u001b[0m\u001b[1;33m\u001b[0m\u001b[0m\n\u001b[0m\u001b[0;32m      4\u001b[0m \u001b[0mnumerical\u001b[0m\u001b[1;33m.\u001b[0m\u001b[0mnpf\u001b[0m\u001b[1;33m(\u001b[0m\u001b[1;36m1311\u001b[0m\u001b[1;33m)\u001b[0m\u001b[1;33m\u001b[0m\u001b[1;33m\u001b[0m\u001b[0m\n\u001b[0;32m      5\u001b[0m \u001b[0mnumerical\u001b[0m\u001b[1;33m.\u001b[0m\u001b[0misn\u001b[0m\u001b[1;33m(\u001b[0m\u001b[1;36m50\u001b[0m\u001b[1;33m,\u001b[0m\u001b[1;36m80\u001b[0m\u001b[1;33m)\u001b[0m\u001b[1;33m\u001b[0m\u001b[1;33m\u001b[0m\u001b[0m\n",
      "\u001b[1;31mNameError\u001b[0m: name 'numerical' is not defined"
     ]
    }
   ],
   "source": [
    "from Packages.numerical import isPrime, numberPrimeFactors as npf, isSpecialNumber as isn\n",
    "# from numerical import isPrime, numberPrimeFactors, isSpecialNumber\n",
    "numerical.isPrime(50)\n",
    "numerical.npf(1311)\n",
    "numerical.isn(50,80)"
   ]
  }
 ],
 "metadata": {
  "kernelspec": {
   "display_name": "Python 3",
   "language": "python",
   "name": "python3"
  }
 },
 "nbformat": 4,
 "nbformat_minor": 2
}
